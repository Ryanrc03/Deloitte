{
 "cells": [
  {
   "cell_type": "markdown",
   "id": "82c0d59c",
   "metadata": {},
   "source": [
    "## 1\n",
    "JSON（JavaScript Object Notation）是一种常见的数据格式，用于表示结构化的信息。\n",
    "机构中存在文本内容：位置信息，字符属性，页面信息等属性\n",
    "## 2\n",
    "除了文档中的三种情况之外，还有可能出现存在子标题的表格\n",
    "## 3 \n",
    "代码如下"
   ]
  },
  {
   "cell_type": "code",
   "execution_count": 1,
   "id": "974ce50a",
   "metadata": {},
   "outputs": [],
   "source": [
    "import json\n",
    "\n",
    "def extract_text_from_table_with_line(table):\n",
    "    text_list = []\n",
    "    for cell in table.get('table_cells', []):\n",
    "        lines = cell.get('lines', [])\n",
    "        cell_text = ' '.join(line['text'] for line in lines)\n",
    "        text_list.append(cell_text)\n",
    "    return text_list\n",
    "\n",
    "# 读取 JSON 文件\n",
    "json_file_path = 'annual_report.json'\n",
    "with open(json_file_path, 'r', encoding='utf-8') as json_file:\n",
    "    json_data = json.load(json_file)\n",
    "\n",
    "# 找到所有 \"table_with_line\" 类型的表格\n",
    "table_with_line_tables = [table for table in json_data.get('tables', []) if table.get('type') == 'table_with_line']\n",
    "\n",
    "# 提取这些表格的文字内容\n",
    "all_texts = []\n",
    "for table in table_with_line_tables:\n",
    "    table_texts = extract_text_from_table_with_line(table)\n",
    "    all_texts.extend(table_texts)\n",
    "\n",
    "# 打印或保存提取的文字\n",
    "for text in all_texts:\n",
    "    print(text)\n"
   ]
  },
  {
   "cell_type": "code",
   "execution_count": 2,
   "id": "332876f5",
   "metadata": {},
   "outputs": [],
   "source": [
    "def process_table(table):\n",
    "    processed_table = {}\n",
    "    \n",
    "    # 处理普通表格\n",
    "    if 'key_index' in table and 'values' in table:\n",
    "        processed_table['title'] = table.get('title', '')\n",
    "        processed_table['unit'] = table.get('unit', '')\n",
    "        processed_table['header'] = table.get('header', [])\n",
    "        processed_table['key_index'] = table.get('key_index', [])\n",
    "        processed_table['values'] = table.get('values', [])\n",
    "    \n",
    "    # 处理跨页表格\n",
    "    elif 'header' in table and 'values' in table:\n",
    "        processed_table['title'] = table.get('title', '')\n",
    "        processed_table['unit'] = table.get('unit', '')\n",
    "        processed_table['header'] = table.get('header', [])\n",
    "        processed_table['key_index'] = table.get('key_index', [])\n",
    "        processed_table['values'] = table.get('values', [])\n",
    "    \n",
    "    # 处理多层级表格\n",
    "    elif 'header' in table and 'key_index' in table and 'values' in table:\n",
    "        processed_table['title'] = table.get('title', '')\n",
    "        processed_table['unit'] = table.get('unit', '')\n",
    "        processed_table['header'] = table.get('header', [])\n",
    "        processed_table['key_index'] = table.get('key_index', [])\n",
    "        processed_table['values'] = table.get('values', [])\n",
    "\n",
    "    return processed_table\n"
   ]
  },
  {
   "cell_type": "code",
   "execution_count": null,
   "id": "e9d30274",
   "metadata": {},
   "outputs": [],
   "source": []
  }
 ],
 "metadata": {
  "kernelspec": {
   "display_name": "Python 3 (ipykernel)",
   "language": "python",
   "name": "python3"
  },
  "language_info": {
   "codemirror_mode": {
    "name": "ipython",
    "version": 3
   },
   "file_extension": ".py",
   "mimetype": "text/x-python",
   "name": "python",
   "nbconvert_exporter": "python",
   "pygments_lexer": "ipython3",
   "version": "3.11.4"
  }
 },
 "nbformat": 4,
 "nbformat_minor": 5
}
